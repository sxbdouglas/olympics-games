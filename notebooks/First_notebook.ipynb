{
 "cells": [
  {
   "cell_type": "markdown",
   "metadata": {},
   "source": [
    "<h1>Project: 120 year Olympic Games</h1>\n",
    "<b>By: Douglas Cruz</b></br>\n",
    "<i>Date: July 10, 2023</i></br>\n",
    "<p>This project is about the last 120 years of olympic games data.</p>"
   ]
  },
  {
   "cell_type": "code",
   "execution_count": null,
   "metadata": {},
   "outputs": [],
   "source": [
    "#Loading datasets\n",
    "dataset_path = 'C:\\\\Users\\\\Douglas\\\\OneDrive\\\\workspace\\\\00_new_start\\\\Learn_Data_Science\\\\DataSet_Olympics_Games\\\\'\n",
    "dataset_athletes_file = 'athlete_events.csv'\n",
    "dataset_country_file = 'noc_regions.csv'\n",
    "import pandas as pd\n",
    "df_athletes = pd.read_csv(dataset_path + dataset_athletes_file, sep=',', encoding='UTF-8')\n",
    "df_countries = pd.read_csv(dataset_path + dataset_country_file, sep=',', encoding='UTF-8')"
   ]
  },
  {
   "cell_type": "code",
   "execution_count": null,
   "metadata": {},
   "outputs": [],
   "source": [
    "#checking dataset dada\n",
    "#df_athletes.head()\n",
    "df_countries.head()"
   ]
  },
  {
   "cell_type": "code",
   "execution_count": null,
   "metadata": {},
   "outputs": [],
   "source": [
    "#joining the tables\n",
    "df_stage = pd.merge(df_athletes, df_countries, on = 'NOC', how='left')\n",
    "df_stage.head()"
   ]
  },
  {
   "cell_type": "code",
   "execution_count": null,
   "metadata": {},
   "outputs": [],
   "source": [
    "#visualization examples\n",
    "df_stage.head(10)['Name']"
   ]
  },
  {
   "cell_type": "code",
   "execution_count": null,
   "metadata": {},
   "outputs": [],
   "source": [
    "#visualization examples\n",
    "df_stage.head(10)[['Name']]"
   ]
  },
  {
   "cell_type": "code",
   "execution_count": null,
   "metadata": {},
   "outputs": [],
   "source": [
    "#dataframe total columns and lines\n",
    "df_stage.shape"
   ]
  },
  {
   "cell_type": "code",
   "execution_count": null,
   "metadata": {},
   "outputs": [],
   "source": [
    "#dataframe schema info\n",
    "df_stage.info()"
   ]
  },
  {
   "cell_type": "code",
   "execution_count": null,
   "metadata": {},
   "outputs": [],
   "source": [
    "#rename columns name\n",
    "df_stage.columns"
   ]
  },
  {
   "cell_type": "code",
   "execution_count": null,
   "metadata": {},
   "outputs": [],
   "source": [
    "#rename columns name\n",
    "df_final = df_stage.rename(columns={'Name':'Nome', 'Sex':'Sexo', 'Age':'Idade', 'Height':'Altura', 'Weight':'Peso', 'Team':'Time', 'NOC':'Pais', 'Games':'Jogos',\n",
    "       'Year':'Ano', 'Season':'Temporada', 'City':'Cidade', 'Sport':'Esporte', 'Event':'Evento', 'Medal':'Medalha', 'region':'Regiao', 'notes':'Anotacoes'})\n",
    "df_final.head(10)"
   ]
  },
  {
   "cell_type": "code",
   "execution_count": null,
   "metadata": {},
   "outputs": [],
   "source": [
    "#dropping duplicates\n",
    "df_final = df_final.drop_duplicates()\n",
    "df_final.shape"
   ]
  },
  {
   "cell_type": "code",
   "execution_count": null,
   "metadata": {},
   "outputs": [],
   "source": [
    "#verifing null values\n",
    "df_final.isnull().all()"
   ]
  },
  {
   "cell_type": "code",
   "execution_count": null,
   "metadata": {},
   "outputs": [],
   "source": [
    "#verifing null values\n",
    "df_final.isnull().any()"
   ]
  },
  {
   "cell_type": "code",
   "execution_count": null,
   "metadata": {},
   "outputs": [],
   "source": [
    "#filtering\n",
    "df_final[df_final['Altura'].isnull()].head()"
   ]
  },
  {
   "cell_type": "code",
   "execution_count": null,
   "metadata": {},
   "outputs": [],
   "source": [
    "#counting null rows by columns\n",
    "df_final.isnull().sum()"
   ]
  },
  {
   "cell_type": "code",
   "execution_count": null,
   "metadata": {},
   "outputs": [],
   "source": [
    "#deleting (rows) with nulls on specific column . delete columns with more nulls to columns with less nulls.\n",
    "df_final = df_final.dropna(subset=['Peso'])\n",
    "df_final.isnull().sum()"
   ]
  },
  {
   "cell_type": "code",
   "execution_count": null,
   "metadata": {},
   "outputs": [],
   "source": [
    "#deleting (rows) with nulls on specific column . delete columns with more nulls to columns with less nulls.\n",
    "df_final = df_final.dropna(subset=['Altura'])\n",
    "df_final.isnull().sum()"
   ]
  },
  {
   "cell_type": "code",
   "execution_count": null,
   "metadata": {},
   "outputs": [],
   "source": [
    "#deleting (rows) with nulls on specific column . delete columns with more nulls to columns with less nulls.\n",
    "df_final = df_final.dropna(subset=['Idade'])\n",
    "df_final.isnull().sum()"
   ]
  },
  {
   "cell_type": "code",
   "execution_count": null,
   "metadata": {},
   "outputs": [],
   "source": [
    "#deleting columns where all rows are null. ( axis = 0 means row, axis = 1 means columns )\n",
    "df_final = df_final.dropna(axis=1, how='all')\n",
    "df_final.shape\n"
   ]
  },
  {
   "cell_type": "code",
   "execution_count": null,
   "metadata": {},
   "outputs": [],
   "source": [
    "#deleting columns where some rows have null. ( axis = 0 means row, axis = 1 means columns )\n",
    "df_final = df_final.dropna(axis=1, how='any')\n",
    "df_final.shape"
   ]
  },
  {
   "cell_type": "code",
   "execution_count": null,
   "metadata": {},
   "outputs": [],
   "source": [
    "df_final.head()"
   ]
  },
  {
   "cell_type": "code",
   "execution_count": null,
   "metadata": {},
   "outputs": [],
   "source": [
    "#drop columns\n",
    "df_final = df_final.drop(columns=['Altura'])\n",
    "df_final.head()"
   ]
  },
  {
   "cell_type": "code",
   "execution_count": null,
   "metadata": {},
   "outputs": [],
   "source": [
    "#distinct values of a columns.\n",
    "df_final['Cidade'].unique()"
   ]
  },
  {
   "cell_type": "code",
   "execution_count": null,
   "metadata": {},
   "outputs": [],
   "source": [
    "#count of a value, group by column, ordered in desc \n",
    "df_final['Sexo'].value_counts()"
   ]
  },
  {
   "cell_type": "code",
   "execution_count": null,
   "metadata": {},
   "outputs": [],
   "source": [
    "#count of a value, group by column, ordered in desc \n",
    "df_final['Cidade'].value_counts()"
   ]
  },
  {
   "cell_type": "code",
   "execution_count": null,
   "metadata": {},
   "outputs": [],
   "source": [
    "#count of a value, in percent\n",
    "df_final['Sexo'].value_counts(normalize=True)"
   ]
  },
  {
   "cell_type": "code",
   "execution_count": null,
   "metadata": {},
   "outputs": [],
   "source": [
    "#count of a value, in percent\n",
    "df_final['Cidade'].value_counts(normalize=True, sort=True,ascending=False)"
   ]
  },
  {
   "cell_type": "code",
   "execution_count": null,
   "metadata": {},
   "outputs": [],
   "source": [
    "df_final.sort_values(by=['Cidade'])"
   ]
  }
 ],
 "metadata": {
  "kernelspec": {
   "display_name": "Python 3",
   "language": "python",
   "name": "python3"
  },
  "language_info": {
   "codemirror_mode": {
    "name": "ipython",
    "version": 3
   },
   "file_extension": ".py",
   "mimetype": "text/x-python",
   "name": "python",
   "nbconvert_exporter": "python",
   "pygments_lexer": "ipython3",
   "version": "3.10.10"
  },
  "orig_nbformat": 4
 },
 "nbformat": 4,
 "nbformat_minor": 2
}
